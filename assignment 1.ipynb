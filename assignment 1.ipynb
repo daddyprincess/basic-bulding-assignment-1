{
 "cells": [
  {
   "cell_type": "markdown",
   "id": "48d1c3dd-b400-4d51-b01d-7177d76c93ca",
   "metadata": {},
   "source": [
    "#1.create one variable type of data\n"
   ]
  },
  {
   "cell_type": "code",
   "execution_count": null,
   "id": "bee2db92-fc43-43d2-90a6-992de1c335d5",
   "metadata": {},
   "outputs": [],
   "source": [
    "string"
   ]
  },
  {
   "cell_type": "markdown",
   "id": "6f15cbc6-6080-4477-82a5-6ee6bfaa8d8f",
   "metadata": {},
   "source": [
    "#2.variables containing adata"
   ]
  },
  {
   "cell_type": "code",
   "execution_count": null,
   "id": "5a89f58f-3c52-40fd-98df-652a7faf65b9",
   "metadata": {},
   "outputs": [],
   "source": [
    "var 2 =' ['ds',ml','python']"
   ]
  },
  {
   "cell_type": "markdown",
   "id": "c667a598-9bfe-42f7-ad19-723607ef56d9",
   "metadata": {},
   "source": [
    "#3.operators using in python"
   ]
  },
  {
   "cell_type": "code",
   "execution_count": null,
   "id": "aa46386a-39df-451b-8ad2-e36e7840c3a4",
   "metadata": {},
   "outputs": [],
   "source": [
    "/  = division\n",
    "%  = remainder\n",
    "// =floor division\n",
    "** =exponent"
   ]
  },
  {
   "cell_type": "code",
   "execution_count": 2,
   "id": "4d7c4331-9ee8-4ac2-af7e-8095519d37b9",
   "metadata": {},
   "outputs": [
    {
     "data": {
      "text/plain": [
       "2.0"
      ]
     },
     "execution_count": 2,
     "metadata": {},
     "output_type": "execute_result"
    }
   ],
   "source": [
    "20/10"
   ]
  },
  {
   "cell_type": "code",
   "execution_count": 3,
   "id": "f267324f-1772-4b5f-adcc-0f1f9075ed1b",
   "metadata": {},
   "outputs": [
    {
     "data": {
      "text/plain": [
       "0"
      ]
     },
     "execution_count": 3,
     "metadata": {},
     "output_type": "execute_result"
    }
   ],
   "source": [
    "20%10"
   ]
  },
  {
   "cell_type": "code",
   "execution_count": 4,
   "id": "93e0fb2f-fd1c-4c99-95f3-8171db8747fa",
   "metadata": {},
   "outputs": [
    {
     "data": {
      "text/plain": [
       "2"
      ]
     },
     "execution_count": 4,
     "metadata": {},
     "output_type": "execute_result"
    }
   ],
   "source": [
    "20//10"
   ]
  },
  {
   "cell_type": "code",
   "execution_count": 5,
   "id": "61387c62-db5c-4fc9-a91b-3017ee6f2d39",
   "metadata": {},
   "outputs": [
    {
     "data": {
      "text/plain": [
       "10240000000000"
      ]
     },
     "execution_count": 5,
     "metadata": {},
     "output_type": "execute_result"
    }
   ],
   "source": [
    "20**10"
   ]
  },
  {
   "cell_type": "markdown",
   "id": "21e948ec-3b3f-4b41-9e5a-a880fde402e7",
   "metadata": {},
   "source": [
    "#4.for loop"
   ]
  },
  {
   "cell_type": "code",
   "execution_count": 7,
   "id": "66dc1265-6ec9-4030-b282-c82f5b87dbd4",
   "metadata": {},
   "outputs": [
    {
     "name": "stdout",
     "output_type": "stream",
     "text": [
      "1\n",
      "2\n",
      "3\n",
      "4\n",
      "5\n",
      "6\n",
      "7\n",
      "8\n",
      "9\n",
      "10\n"
     ]
    }
   ],
   "source": [
    "#list of the length\n",
    "sum=0\n",
    "for i in range (10):\n",
    "    sum = sum +1\n",
    "    print (sum)"
   ]
  },
  {
   "cell_type": "markdown",
   "id": "e256428a-cb3b-4655-96c6-bbcc3c4adff2",
   "metadata": {},
   "source": [
    "5.while loop"
   ]
  },
  {
   "cell_type": "code",
   "execution_count": 15,
   "id": "e8228454-60c9-4a52-88b0-95df7abd2b2c",
   "metadata": {},
   "outputs": [
    {
     "name": "stdout",
     "output_type": "stream",
     "text": [
      "2\n",
      "3\n",
      "5\n",
      "6\n",
      "7\n",
      "8\n",
      "9\n",
      "10\n"
     ]
    }
   ],
   "source": [
    "a = 10\n",
    "i = 1\n",
    "\n",
    "while i < a:\n",
    "    \n",
    "    i=i+1\n",
    "    if i == 4:\n",
    "        continue\n",
    "    print (i)\n",
    "    "
   ]
  },
  {
   "cell_type": "markdown",
   "id": "ca4df0fb-1205-4b4c-9946-3d07fdfef863",
   "metadata": {},
   "source": [
    "#6.for loop and if else"
   ]
  },
  {
   "cell_type": "code",
   "execution_count": 55,
   "id": "4391cd82-76a2-4e7c-8680-1c2b95a4099d",
   "metadata": {},
   "outputs": [
    {
     "name": "stdout",
     "output_type": "stream",
     "text": [
      "[1, 3, 5, 7, 9, 11, 13, 15, 17, 19, 21, 23, 25]\n",
      "[1, 3, 5, 7, 9, 11, 13, 15, 17, 19, 21, 23, 25]\n",
      "[1, 3, 5, 7, 9, 11, 13, 15, 17, 19, 21, 23, 25]\n",
      "[1, 3, 5, 7, 9, 11, 13, 15, 17, 19, 21, 23, 25]\n",
      "[1, 3, 5, 7, 9, 11, 13, 15, 17, 19, 21, 23, 25]\n",
      "[1, 3, 5, 7, 9, 11, 13, 15, 17, 19, 21, 23, 25]\n",
      "[1, 3, 5, 7, 9, 11, 13, 15, 17, 19, 21, 23, 25]\n",
      "[1, 3, 5, 7, 9, 11, 13, 15, 17, 19, 21, 23, 25]\n",
      "[1, 3, 5, 7, 9, 11, 13, 15, 17, 19, 21, 23, 25]\n",
      "[1, 3, 5, 7, 9, 11, 13, 15, 17, 19, 21, 23, 25]\n",
      "[1, 3, 5, 7, 9, 11, 13, 15, 17, 19, 21, 23, 25]\n",
      "[1, 3, 5, 7, 9, 11, 13, 15, 17, 19, 21, 23, 25]\n",
      "[1, 3, 5, 7, 9, 11, 13, 15, 17, 19, 21, 23, 25]\n",
      "yes\n"
     ]
    }
   ],
   "source": [
    "#list having integer\n",
    "a=25\n",
    "#using for loop\n",
    "a = [1,3,5,7,9,11,13,15,17,19,21,23,25]\n",
    "#print the list using loop\n",
    "for x in range (len(a)):\n",
    "    print (a)\n",
    "#return n is divisible by 25\n",
    "#driver code\n",
    "a == 3\n",
    "if  \"--main--\":\n",
    "    if    (a):\n",
    "        print (\"yes\")\n",
    "else:\n",
    "    print (\"no\")\n",
    "    "
   ]
  },
  {
   "cell_type": "markdown",
   "id": "9dd6598c-3b7f-4c50-a24f-cbb6e3ac675c",
   "metadata": {},
   "source": [
    "#7.mutable and immutable data types"
   ]
  },
  {
   "cell_type": "code",
   "execution_count": null,
   "id": "761f7b1a-ea90-4e21-ab71-bf40b9cf67b4",
   "metadata": {},
   "outputs": [],
   "source": [
    "Mutable :\n",
    "A mutable object can be changed after it is created.\n",
    "Example:\n",
    "        List\n",
    "        Set\n",
    "        Dictionary\n",
    "Data types:\n",
    "            Numbers\n",
    "            Strings\n",
    "            Tuples"
   ]
  },
  {
   "cell_type": "code",
   "execution_count": 56,
   "id": "36df273d-fe48-4e44-bbad-f2979d576382",
   "metadata": {},
   "outputs": [
    {
     "data": {
      "text/plain": [
       "139807858385856"
      ]
     },
     "execution_count": 56,
     "metadata": {},
     "output_type": "execute_result"
    }
   ],
   "source": [
    "a = [\"milk\",\"eggs\"]\n",
    "id(a)\n",
    "a.append(\"bread\")\n",
    "id (a)"
   ]
  },
  {
   "cell_type": "code",
   "execution_count": null,
   "id": "c049b1e4-eb17-4a77-b741-aae0d646e71a",
   "metadata": {},
   "outputs": [],
   "source": [
    "Immutable:\n",
    "An immutable object cannot be changed after its created.    \n",
    "Example:\n",
    "        tuples\n",
    "        int\n",
    "        float\n",
    "        bool\n",
    "Data types:\n",
    "            list \n",
    "            dictionary\n",
    "            sets"
   ]
  },
  {
   "cell_type": "code",
   "execution_count": 57,
   "id": "6a4501c6-697c-4818-83d4-ef2fe660dcba",
   "metadata": {},
   "outputs": [
    {
     "name": "stdout",
     "output_type": "stream",
     "text": [
      " id of name_1= 139807701419952\n",
      " id of name_2 = 139807696136112\n"
     ]
    }
   ],
   "source": [
    "name_1 = \"Arun\"\n",
    "name_2 = \"T\" + name_1[1:]\n",
    "print (\" id of name_1=\",id(name_1))\n",
    "print (\" id of name_2 =\",id(name_2))"
   ]
  }
 ],
 "metadata": {
  "kernelspec": {
   "display_name": "Python 3 (ipykernel)",
   "language": "python",
   "name": "python3"
  },
  "language_info": {
   "codemirror_mode": {
    "name": "ipython",
    "version": 3
   },
   "file_extension": ".py",
   "mimetype": "text/x-python",
   "name": "python",
   "nbconvert_exporter": "python",
   "pygments_lexer": "ipython3",
   "version": "3.10.8"
  }
 },
 "nbformat": 4,
 "nbformat_minor": 5
}
